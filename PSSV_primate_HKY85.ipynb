{
 "cells": [
  {
   "cell_type": "code",
   "execution_count": 1,
   "id": "6ce02e0a",
   "metadata": {},
   "outputs": [
    {
     "ename": "LoadError",
     "evalue": "syntax: extra token \"accompanying\" after end of expression",
     "output_type": "error",
     "traceback": [
      "syntax: extra token \"accompanying\" after end of expression",
      "",
      "Stacktrace:",
      " [1] top-level scope",
      "   @ In[1]:1"
     ]
    }
   ],
   "source": [
    "code accompanying P Selvakumar and R Siddharthan, \"Position-specific evolution in transcription factor binding\n",
    "  sites, and a fast likelihood calculation for the F81 model\"\n",
    "  \n",
    "tested with Julia 1.9.1"
   ]
  },
  {
   "cell_type": "code",
   "execution_count": 2,
   "id": "d9d85ccd",
   "metadata": {},
   "outputs": [],
   "source": [
    "using NLopt\n",
    "using Logomaker"
   ]
  },
  {
   "cell_type": "markdown",
   "id": "b75e9475",
   "metadata": {},
   "source": [
    "#### NodeData contains the data for the node: \n",
    "`label` comes from the Newick string\n",
    "`labelnum` is created by the function `set_labelnums!` and is a unique positive number corresponding to each leaf (internal nodes have `labelnum` 0\n",
    "`q` is proximity of node to its parent ($q = \\exp (-\\mu t)$ where $\\mu$ is mutation rate and $t$ is evolutionary time)"
   ]
  },
  {
   "cell_type": "code",
   "execution_count": 3,
   "id": "90ba52f4",
   "metadata": {},
   "outputs": [],
   "source": [
    "mutable struct NodeData\n",
    "    label::String\n",
    "    labelnum::Int64 # for efficiency, encode labels by unique numbers\n",
    "    lik_a::Vector{Float64} # partial likelihoods to be stored for Felsenstein algorithm\n",
    "    q::Float64 # evolutionary time in units of inverse mutation rate such that exp(-t) = q\n",
    "end"
   ]
  },
  {
   "cell_type": "code",
   "execution_count": 4,
   "id": "b060d104",
   "metadata": {},
   "outputs": [],
   "source": [
    "mutable struct Node\n",
    "    data::NodeData\n",
    "    children::Vector{Union{Nothing,Node}}\n",
    "    function Node(data)\n",
    "        new(data,[])\n",
    "    end\n",
    "end"
   ]
  },
  {
   "cell_type": "markdown",
   "id": "2cfbe67b",
   "metadata": {},
   "source": [
    "code to convert Newick strings to trees and vice versa"
   ]
  },
  {
   "cell_type": "code",
   "execution_count": 5,
   "id": "f2eb0079",
   "metadata": {},
   "outputs": [
    {
     "data": {
      "text/plain": [
       "newick_to_tree (generic function with 1 method)"
      ]
     },
     "execution_count": 5,
     "metadata": {},
     "output_type": "execute_result"
    }
   ],
   "source": [
    "function split_string_by_bracket(s)\n",
    "    splitlist = []\n",
    "    substr = \"\"\n",
    "    nleft = 0\n",
    "    nright = 0\n",
    "    for c in s\n",
    "        if c == '('\n",
    "            nleft += 1\n",
    "        elseif c == ')'\n",
    "            nright += 1\n",
    "        end\n",
    "        if c==',' && nleft==nright\n",
    "            push!(splitlist,substr)\n",
    "            substr = \"\"\n",
    "        else\n",
    "            substr *= c\n",
    "        end\n",
    "    end\n",
    "    push!(splitlist, substr)\n",
    "    return splitlist\n",
    "end\n",
    "        \n",
    "function newick_to_tree(s::String)\n",
    "    if s[end] == ';'    # full tree\n",
    "        if s[end-1]==')'  # no root height\n",
    "            height = 0.0\n",
    "        else\n",
    "            height = parse(Float64,split(s,\":\")[end][1:end-1])\n",
    "              # the thing after \":\" and before ;\n",
    "        end\n",
    "    else\n",
    "        height = parse(Float64,split(s,\":\")[end]) # no ; for internal nodes\n",
    "    end\n",
    "    tree = Node(NodeData(\"\",0,[-1.0,-1.0,-1.0,-1.0],height))\n",
    "    if s[1]=='(' # find closing brace\n",
    "        last = length(s)\n",
    "        try\n",
    "            while s[last]!= ')'\n",
    "                last -= 1\n",
    "            end\n",
    "        catch\n",
    "            println(s)\n",
    "            throw(ArgumentError)\n",
    "        end\n",
    "        children = split_string_by_bracket(s[2:last-1])\n",
    "        tree.children = [newick_to_tree(c) for c in children]\n",
    "    else # leaf\n",
    "        label = split(s,\":\")[1]\n",
    "        tree.data = NodeData(label,0,[-1.0,-1.0,-1.0,-1.0],tree.data.q)\n",
    "    end\n",
    "    return tree\n",
    "end\n",
    "            "
   ]
  },
  {
   "cell_type": "code",
   "execution_count": 6,
   "id": "29f185b8",
   "metadata": {},
   "outputs": [
    {
     "data": {
      "text/plain": [
       "tree_to_newick (generic function with 2 methods)"
      ]
     },
     "execution_count": 6,
     "metadata": {},
     "output_type": "execute_result"
    }
   ],
   "source": [
    "function tree_to_newick(t::Node, depth::Int64=0)\n",
    "    if depth==0\n",
    "        endtoken = \";\"\n",
    "    else\n",
    "        endtoken = \"\"\n",
    "    end\n",
    "    if t.children == []\n",
    "        return t.data.label*\":\"*string(t.data.q)*endtoken\n",
    "    else\n",
    "        return \"(\"*join([tree_to_newick(c,depth+1) for c in t.children],\",\")*\"):\"*string(t.data.q)*endtoken\n",
    "    end\n",
    "end"
   ]
  },
  {
   "cell_type": "markdown",
   "id": "e7a52508",
   "metadata": {},
   "source": [
    "Get all leaves below a node, by depth first search"
   ]
  },
  {
   "cell_type": "code",
   "execution_count": 7,
   "id": "a07142cf",
   "metadata": {},
   "outputs": [
    {
     "data": {
      "text/plain": [
       "get_leaves (generic function with 1 method)"
      ]
     },
     "execution_count": 7,
     "metadata": {},
     "output_type": "execute_result"
    }
   ],
   "source": [
    "function get_leaves(t::Node)\n",
    "    if t.children==[]\n",
    "        return [t.data]\n",
    "    else\n",
    "        return reduce(vcat,[get_leaves(c) for c in t.children])\n",
    "    end\n",
    "end"
   ]
  },
  {
   "cell_type": "code",
   "execution_count": 8,
   "id": "63b08c54",
   "metadata": {},
   "outputs": [
    {
     "data": {
      "text/plain": [
       "get_internal_nodes (generic function with 1 method)"
      ]
     },
     "execution_count": 8,
     "metadata": {},
     "output_type": "execute_result"
    }
   ],
   "source": [
    "function get_internal_nodes(t::Node)\n",
    "    if t.children==[]\n",
    "        return NodeData[]\n",
    "    else\n",
    "        return reduce(vcat,[t.data; [get_internal_nodes(c) for c in t.children]])\n",
    "    end\n",
    "end"
   ]
  },
  {
   "cell_type": "markdown",
   "id": "22577a6b",
   "metadata": {},
   "source": [
    "set labelnums to a tree, remember to do this before calling any other routines\n",
    "(to ensure it, below is a wrapper function that also calls newick_to_tree)\n",
    "\n",
    "unique numbers are attached, first to leaves, then to internal nodes"
   ]
  },
  {
   "cell_type": "code",
   "execution_count": 9,
   "id": "ba39f6a5",
   "metadata": {},
   "outputs": [
    {
     "data": {
      "text/plain": [
       "treeFromNewick (generic function with 1 method)"
      ]
     },
     "execution_count": 9,
     "metadata": {},
     "output_type": "execute_result"
    }
   ],
   "source": [
    "function set_labelnums!(t::Node)\n",
    "    leaves = get_leaves(t)\n",
    "    inodes = get_internal_nodes(t)\n",
    "    nl = length(leaves)\n",
    "    nin = length(inodes)\n",
    "    for n in 1:nl+nin\n",
    "        if n <= nl\n",
    "            leaves[n].labelnum = n\n",
    "        else\n",
    "            inodes[n-nl].labelnum = n\n",
    "        end\n",
    "    end\n",
    "    return [l.label for l in leaves]\n",
    "end\n",
    "\n",
    "# returns a tree, as well as a list of leaves in the same order as labelnum\n",
    "function treeFromNewick(s::String)\n",
    "    t = newick_to_tree(s)\n",
    "    leaves = set_labelnums!(t)\n",
    "    return t,leaves\n",
    "end"
   ]
  },
  {
   "cell_type": "markdown",
   "id": "2e9fa84d",
   "metadata": {},
   "source": [
    "### maybe not needed; remove?"
   ]
  },
  {
   "cell_type": "code",
   "execution_count": 10,
   "id": "95e93db7",
   "metadata": {},
   "outputs": [
    {
     "data": {
      "text/plain": [
       "set_qlist_all! (generic function with 1 method)"
      ]
     },
     "execution_count": 10,
     "metadata": {},
     "output_type": "execute_result"
    }
   ],
   "source": [
    "function set_qlist_all!(tree::Node,q::Float64)\n",
    "    tree.data.q = q\n",
    "    for c in tree.children\n",
    "        c.data.q = q\n",
    "        set_qlist_all!(c,q)\n",
    "    end\n",
    "end"
   ]
  },
  {
   "cell_type": "markdown",
   "id": "9bc2d6c2",
   "metadata": {},
   "source": [
    "##### HKY85 model: \n",
    "Rate matrix is\n",
    "$$ R = \\begin{bmatrix}\n",
    "* & \\pi_A & \\kappa \\pi_A & \\pi_A \\\\\n",
    "\\pi_C & * & \\pi_C & \\pi_C \\\\\n",
    "\\kappa \\pi_G & \\pi_G & * & \\kappa \\pi_G \\\\\n",
    "\\pi_T & \\kappa \\pi_T & \\pi_T & * \\end{bmatrix}$$\n",
    "\n",
    "where *columns* sum to zero (in some other presentations, *rows* sum to zero). $\\kappa$ is the transition-transversion ratio.  In terms of this, the transition probabilities are \n",
    "\n",
    "identity, $\\beta=\\alpha$ for $\\alpha = A,G$:\n",
    "\n",
    "$P_{\\beta\\alpha} = \\pi_\\alpha + \\pi_\\alpha \\frac{\\pi_Y}{\\pi_R} e_2 + \\left(1-\\frac{\\pi_\\alpha}{\\pi_R}\\right)e_3$\n",
    "\n",
    "\n",
    "identity, $\\beta=\\alpha$ for $\\alpha = C,T$:\n",
    "\n",
    "$P_{\\beta\\alpha} = \\pi_\\alpha + \\pi_\\alpha \\frac{\\pi_R}{\\pi_Y} e_2 + \\left(1-\\frac{\\pi_\\alpha}{\\pi_Y}\\right)e_4$\n",
    "\n",
    "Transition, purine:\n",
    "\n",
    "$P_{\\beta\\alpha} = \\pi_\\beta\\left(1+\\frac{\\pi_Y}{\\pi_R} e_2 - \\frac{1}{\\pi_R}e_3 \\right)$\n",
    "\n",
    "Transition, pyrimidine: \n",
    "\n",
    "$P_{\\beta\\alpha} = \\pi_\\beta\\left(1+\\frac{\\pi_R}{\\pi_Y} e_2 - \\frac{1}{\\pi_Y}e_4 \\right)$\n",
    "\n",
    "Transversion:\n",
    "\n",
    "$P_{\\beta\\alpha} = \\pi_\\beta(1-e_2)$\n",
    "\n",
    "where $e_2 = e^{-t} \\equiv q$, $e_3 = q^{\\kappa \\pi_R + \\pi_Y}$ and $e_4 = q^{\\kappa \\pi_Y + \\pi_R}$."
   ]
  },
  {
   "cell_type": "markdown",
   "id": "d9b1ca2e",
   "metadata": {},
   "source": [
    "### HKY likelihood calculation\n",
    "\n",
    "Note convention\n",
    "\n",
    "A=1, C=2, G=3, T=4 because of Julia's 1-indexing"
   ]
  },
  {
   "cell_type": "code",
   "execution_count": 11,
   "id": "bee8da29",
   "metadata": {},
   "outputs": [
    {
     "data": {
      "text/plain": [
       "hkyS (generic function with 2 methods)"
      ]
     },
     "execution_count": 11,
     "metadata": {},
     "output_type": "execute_result"
    }
   ],
   "source": [
    "function hkyS(β::Int64,α::Int64,q::Float64, κ::Float64, statprob::Vector{Float64}=[0.25,0.25,0.25,0.25])\n",
    "    # α, β are 1,2,3,4 == A, C, G, T\n",
    "    # q is proximity\n",
    "    # statprob = stationary probability distribution (π vector)\n",
    "    # this is prob of ancestor α mutating to descendant β\n",
    "    πα = statprob[α]\n",
    "    πβ = statprob[β]\n",
    "    πR = statprob[1]+statprob[3]\n",
    "    πY = statprob[2]+statprob[4]\n",
    "    e2 = q\n",
    "    e3 = q^(κ*πR+πY)\n",
    "    e4 = q^(κ*πY+πR)\n",
    "    if α==β==1 || α==β==3 # identity, purine\n",
    "        return πα + πα*(πY/πR)*e2 + (1-πα/πR)*e3\n",
    "    elseif α==β==2 || α==β==4 # identity, pyrimidine\n",
    "        return πα + πα*(πR/πY)*e2 + (1-πα/πY)*e4\n",
    "    elseif (α==1 && β==3) || (α==3 && β==1) # transition, purine\n",
    "        return πβ*(1+(πY/πR)*e2-e3/πR)\n",
    "    elseif (α==2 && β==4) || (α==4 && β==2) # transition, pyrimidine\n",
    "        return πβ*(1+(πR/πY)*e2 - e4/πY)\n",
    "    else # transversion\n",
    "        return πβ*(1-e2)\n",
    "    end\n",
    "end"
   ]
  },
  {
   "cell_type": "markdown",
   "id": "b58b7a21",
   "metadata": {},
   "source": [
    "### TFBS evolution:\n",
    "\n",
    "1. take collection of neutral sites ($\\vec{\\pi}$ = (0.25,0.25,0.25,0.25) or background freqs), learn the $q$'s and $\\kappa$\n",
    "   * requires a tree with fixed topology. Then fit the $q$'s and $\\kappa$ as in the methods\n",
    "2. take HKY $T$ using these $q$'s and $\\kappa$ and a $\\vec{\\pi}$ to be learned\n",
    "3. maximum-likelihood estimation of $\\vec{\\pi}$ per position in TFBS "
   ]
  },
  {
   "cell_type": "markdown",
   "id": "f076e987",
   "metadata": {},
   "source": [
    "### Learning the maximum likelihood $q$ values for a collection of neutral sites\n",
    "\n",
    "1. convert $q$'s to a vector for use in `optimize` (from `NLopt` package)\n",
    "2. if tree has $N$ nodes, there are $N-2$ $q$'s for binary tree, because root node has no height, and \n",
    "we can assume one of the children (right child) has no height ($q=1$).  \n",
    "2a. if root has more than 2 children, we need to assign $q$ for each child.\n",
    "3. function to be minimized = Felsenstein likelihood for leaves as a function of $q$'s and fixed tree topology."
   ]
  },
  {
   "cell_type": "code",
   "execution_count": 12,
   "id": "91fd47c9",
   "metadata": {},
   "outputs": [
    {
     "data": {
      "text/plain": [
       "is_leaf (generic function with 1 method)"
      ]
     },
     "execution_count": 12,
     "metadata": {},
     "output_type": "execute_result"
    }
   ],
   "source": [
    "is_leaf(t::Node) = t.children==[]"
   ]
  },
  {
   "cell_type": "markdown",
   "id": "797c3a3a",
   "metadata": {},
   "source": [
    "##### Felsenstein algorithm for likelihood\n",
    "\n",
    "Assumes binary tree. Uses dictionary for caching results\n",
    "\n"
   ]
  },
  {
   "cell_type": "code",
   "execution_count": 13,
   "id": "e03eb8a2",
   "metadata": {},
   "outputs": [
    {
     "data": {
      "text/plain": [
       "likelihood_all (generic function with 2 methods)"
      ]
     },
     "execution_count": 13,
     "metadata": {},
     "output_type": "execute_result"
    }
   ],
   "source": [
    "function likelihood_one(node::Node,sites::Array{Int64,2},sitepos::Int64,a::Int64, \n",
    "        ll_dict::Dict{Tuple{Int64, Int64, Vector{Int64}}, Float64}, κ::Float64, statprob::Vector{Float64})\n",
    "    # likelihood of leaves below node given node value is a: Felsenstein's algorithm\n",
    "    # assume binary tree\n",
    "    if node.children == [] # leaf\n",
    "        if sites[node.data.labelnum,sitepos]==a\n",
    "            return 1.0\n",
    "        else\n",
    "            return 0.0\n",
    "        end\n",
    "    elseif length(node.children)==1 # single leaf case, should occur only with root node\n",
    "        return statprob[node.children[1].data.labelnum]\n",
    "    else\n",
    "        key1 = (node.data.labelnum, a, [sites[l.labelnum,sitepos] for l in get_leaves(node)])\n",
    "        #println(key1, node.data, ll_dict)\n",
    "        if haskey(ll_dict,key1)\n",
    "            return ll_dict[key1]\n",
    "        else\n",
    "            lik = 0.0\n",
    "            left = node.children[1]\n",
    "            right = node.children[2]\n",
    "            for b in 1:4\n",
    "                for c in 1:4\n",
    "                    lik += hkyS(b,a,left.data.q,κ)*likelihood_one(left,sites,sitepos,b,ll_dict,κ,statprob) *\n",
    "                    hkyS(c,a,right.data.q,κ)*likelihood_one(right,sites,sitepos,c,ll_dict,κ,statprob)\n",
    "                end\n",
    "            end\n",
    "            ll_dict[key1] = lik\n",
    "            return lik\n",
    "        end\n",
    "    end\n",
    "end\n",
    "\n",
    "function likelihood_all(root::Node, sites::Array{Int64,2}, sitelen::Int64, κ::Float64, bgprob=[0.25,0.25,0.25,0.25])\n",
    "    lik = 0.0\n",
    "    ll_dict = Dict{Tuple{Int64,Int64, Vector{Int64}},Float64}()\n",
    "    for i in 1:sitelen\n",
    "        lik1 = 0.0\n",
    "        for a in 1:4\n",
    "            lik1 += likelihood_one(root,sites,i,a,ll_dict,κ,bgprob)*bgprob[a]\n",
    "        end\n",
    "        lik += log(lik1)\n",
    "    end\n",
    "    return lik\n",
    "end"
   ]
  },
  {
   "cell_type": "code",
   "execution_count": 14,
   "id": "b567802e",
   "metadata": {},
   "outputs": [
    {
     "data": {
      "text/plain": [
       "likelihood_all_cached (generic function with 2 methods)"
      ]
     },
     "execution_count": 14,
     "metadata": {},
     "output_type": "execute_result"
    }
   ],
   "source": [
    "function likelihood_one_cached(node::Node,sites::Array{Int64,2},sitepos::Int64,a::Int64, \n",
    "         κ::Float64, statprob::Vector{Float64})\n",
    "    # likelihood of leaves below node given node value is a: Felsenstein's algorithm\n",
    "    # assume binary tree\n",
    "    if node.data.lik_a[a] > -1.0\n",
    "        return node.data.lik_a[a]        \n",
    "    elseif node.children == [] # leaf\n",
    "        if sites[node.data.labelnum,sitepos]==a\n",
    "            node.data.lik_a[a] = 1.0\n",
    "            return 1.0\n",
    "        else\n",
    "            node.data.lik_a[a] = 0.0            \n",
    "            return 0.0\n",
    "        end\n",
    "    elseif length(node.children)==1 # single leaf case, should occur only with root node\n",
    "        return statprob[node.children[1].data.labelnum]\n",
    "    else\n",
    "        lik = 0.0\n",
    "        left = node.children[1]\n",
    "        right = node.children[2]\n",
    "        for b in 1:4\n",
    "            for c in 1:4\n",
    "                lik += hkyS(b,a,left.data.q,κ)*likelihood_one_cached(left,sites,sitepos,b,κ,statprob) *\n",
    "                    hkyS(c,a,right.data.q,κ)*likelihood_one_cached(right,sites,sitepos,c,κ,statprob)\n",
    "            end\n",
    "        end\n",
    "        node.data.lik_a[a] = lik        \n",
    "        return lik\n",
    "    end\n",
    "end\n",
    "\n",
    "function reset_caches!(t::Node)\n",
    "    for n in 1:4\n",
    "        t.data.lik_a[n] = -1.0\n",
    "    end\n",
    "    if ! is_leaf(t)\n",
    "        for c in t.children\n",
    "            reset_caches!(c)\n",
    "        end\n",
    "    end\n",
    "end\n",
    "        \n",
    "\n",
    "function likelihood_all_cached(root::Node, sites::Array{Int64,2}, sitelen::Int64, κ::Float64, bgprob=[0.25,0.25,0.25,0.25])\n",
    "    lik = 0.0\n",
    "    for i in 1:sitelen\n",
    "        reset_caches!(root)\n",
    "        lik1 = 0.0\n",
    "        for a in 1:4\n",
    "            lik1 += likelihood_one_cached(root,sites,i,a,κ,bgprob)*bgprob[a]\n",
    "        end\n",
    "        lik += log(lik1)\n",
    "    end\n",
    "    return lik\n",
    "end"
   ]
  },
  {
   "cell_type": "markdown",
   "id": "6615f736",
   "metadata": {},
   "source": [
    "#### Learning optimal $q$ and $\\kappa$ from a collection of sites\n",
    "\n",
    "Optimize the likelihood function as a function of $q$ and $\\kappa$. \n",
    "\n",
    "For this, we need to be able to get a list of current $q$'s from the tree, as well as set them to the tree. \n",
    "\n",
    "If root of tree is binary, for $N$ nodes we have $N-2$ $q$-values. Else, $N-1$ q-values. (Root node has $q$=1.0 and, for binary tree, the two leaves aren't uniquely determined so we set the right leaf to have $q$=1.0)\n",
    "\n",
    "`get_nodelist` gets the list of nodes, `get_qlist` gets the `q` values from these nodes, `set_qlist` sets `q` values for these nodes. All these apply to the full tree, not the one reduced to stars. \n",
    "\n",
    "##### For now: assume the full tree is binary"
   ]
  },
  {
   "cell_type": "code",
   "execution_count": 15,
   "id": "fdfc0938",
   "metadata": {},
   "outputs": [
    {
     "data": {
      "text/plain": [
       "set_qlist! (generic function with 1 method)"
      ]
     },
     "execution_count": 15,
     "metadata": {},
     "output_type": "execute_result"
    }
   ],
   "source": [
    "function get_nodelist(tree::Node,isroot::Bool,isrootright::Bool)::Vector{Node}\n",
    "    if tree.children == []\n",
    "        if isrootright\n",
    "            return Node[]\n",
    "        else\n",
    "            return Node[tree]\n",
    "        end\n",
    "    else\n",
    "        nodelist = reduce(vcat,[get_nodelist(c,false,false) for c in tree.children[1:end-1]])\n",
    "        if isroot # root and its right child have no proximity ## FIXME this assumes root has 2 children\n",
    "            nodelist = Node[nodelist; get_nodelist(tree.children[end],false,true)]\n",
    "        elseif isrootright # the right child of the root node has q=1\n",
    "            nodelist = Node[nodelist; get_nodelist(tree.children[end],false,false)]\n",
    "        else\n",
    "            nodelist = Node[nodelist;[tree];get_nodelist(tree.children[end],false,false)]\n",
    "        end\n",
    "        return nodelist\n",
    "    end\n",
    "end\n",
    "\n",
    "function get_qlist(tree::Node)\n",
    "    nodelist = get_nodelist(tree,true,false)\n",
    "    return [n.data.q for n in nodelist]\n",
    "end\n",
    "    \n",
    "function set_qlist!(tree::Node,qlist::Vector{Float64})\n",
    "    tree.data.q = 1.0\n",
    "    tree.children[end].data.q = 1.0\n",
    "    nodelist = get_nodelist(tree,true,false)\n",
    "    for i = 1:length(nodelist)\n",
    "        nodelist[i].data.q = qlist[i]\n",
    "    end\n",
    "end\n",
    "    "
   ]
  },
  {
   "cell_type": "code",
   "execution_count": 16,
   "id": "8b6d3d52",
   "metadata": {},
   "outputs": [
    {
     "data": {
      "text/plain": [
       "q_lik_func (generic function with 2 methods)"
      ]
     },
     "execution_count": 16,
     "metadata": {},
     "output_type": "execute_result"
    }
   ],
   "source": [
    "function q_lik_func(q::Vector{Float64},tree::Node,sites::Array{Int64,2},sitelen::Int64,\n",
    "        bgprob::Vector{Float64}=[0.25,0.25,0.25,0.25])\n",
    "    # last element of qlist is κ\n",
    "    κ = q[end]\n",
    "    set_qlist!(tree,q[1:end-1])\n",
    "    lik = likelihood_all_cached(tree,sites,sitelen,κ,bgprob)\n",
    "    return -lik # minimize negative log-likelihood\n",
    "end\n"
   ]
  },
  {
   "cell_type": "code",
   "execution_count": 17,
   "id": "4ebec577",
   "metadata": {},
   "outputs": [
    {
     "data": {
      "text/plain": [
       "get_NLopt_qlist (generic function with 3 methods)"
      ]
     },
     "execution_count": 17,
     "metadata": {},
     "output_type": "execute_result"
    }
   ],
   "source": [
    "function get_NLopt_qlist(t::Node,sites::Array{Int64,2},\n",
    "        sitelen::Int64=0,bgprob::Vector{Float64}=[0.25,0.25,0.25,0.25])\n",
    "    if sitelen==0\n",
    "        sitelen = length(sites[1,:])\n",
    "    end\n",
    "    qlik(qlist,grad=[]) = q_lik_func(qlist,t,sites,sitelen,bgprob)\n",
    "    # initial \n",
    "    qlist = [get_qlist(t); 2.0]\n",
    "    opt = Opt(:LN_SBPLX,length(qlist))  # SBPLX seems to be recommended by NLopt maintainer\n",
    "    # opt = Opt(:LN_NELDERMEAD,length(qlist))\n",
    "    \n",
    "    opt.min_objective = qlik\n",
    "    opt.ftol_rel = 1e-10\n",
    "    opt.lower_bounds = [1e-20 for q in qlist]\n",
    "    opt.upper_bounds = [[1-1e-20 for q in qlist[1:end-1]]; 20.0]\n",
    "    (optf,optx,ret) = NLopt.optimize(opt,qlist)\n",
    "    return (optf,optx,ret)\n",
    "end"
   ]
  },
  {
   "cell_type": "markdown",
   "id": "30779856",
   "metadata": {},
   "source": [
    "#####  Fit $\\pi$ vector with fixed $q$s"
   ]
  },
  {
   "cell_type": "markdown",
   "id": "8b05edf7",
   "metadata": {},
   "source": [
    "as input to this, `sites` is a matrix containing the collection of position-specific sites you are interested in, across all instances. "
   ]
  },
  {
   "cell_type": "code",
   "execution_count": 18,
   "id": "29471333",
   "metadata": {},
   "outputs": [
    {
     "data": {
      "text/plain": [
       "p_lik_func (generic function with 1 method)"
      ]
     },
     "execution_count": 18,
     "metadata": {},
     "output_type": "execute_result"
    }
   ],
   "source": [
    "function p_lik_func(p::Vector{Float64}, tree::Node,sites::Array{Int64,2},\n",
    "        sitelen::Int64, κ::Float64)\n",
    "    if sum(p) > 1.0\n",
    "        return 1e50 # infinity? crude bounds check\n",
    "    else\n",
    "        lik = likelihood_all_cached(tree,sites,sitelen,κ,[p; 1.0-sum(p)])\n",
    "        return -lik\n",
    "    end\n",
    "end"
   ]
  },
  {
   "cell_type": "code",
   "execution_count": 19,
   "id": "d5de8225",
   "metadata": {},
   "outputs": [
    {
     "data": {
      "text/plain": [
       "get_NLopt_pivec (generic function with 4 methods)"
      ]
     },
     "execution_count": 19,
     "metadata": {},
     "output_type": "execute_result"
    }
   ],
   "source": [
    "function get_NLopt_pivec(t::Node,sites::Array{Int64,2},\n",
    "        sitelen::Int64=0,κ::Float64=1.0,bgprob::Vector{Float64}=[0.25,0.25,0.25,0.25])\n",
    "    if sitelen==0\n",
    "        sitelen = length(sites[1,:])\n",
    "    end\n",
    "    pilik(x,grad=[]) = p_lik_func(x,t,sites,sitelen,κ)\n",
    "    pilist = copy(bgprob[1:3])\n",
    "\n",
    "    opt = Opt(:LN_SBPLX,3)  # SBPLX seems to be recommended by NLopt maintainer\n",
    "    # opt = Opt(:LN_NELDERMEAD,4)\n",
    "    #opt = Opt(:LN_COBYLA, 3)\n",
    "    #opt = Opt(:LD_SLSQP, 3)\n",
    "    #simplexconstraint2(x::Vector{Float64},g,a,b) = x[1] + x[2] + x[3] - 1.0\n",
    "    opt.min_objective = pilik\n",
    "    opt.ftol_rel = 1e-10\n",
    "    opt.lower_bounds = [1e-20 for p in pilist]\n",
    "    opt.upper_bounds = [1-1e-20 for p in pilist]\n",
    "    #inequality_constraint!(opt, (x,g) -> simplexconstraint2(x,g,0,0), 1e-10)\n",
    "\n",
    "    (optf,optx,ret) = NLopt.optimize(opt,pilist)\n",
    "    return (optf,optx,ret)\n",
    "end"
   ]
  },
  {
   "cell_type": "markdown",
   "id": "bd2cbaef",
   "metadata": {},
   "source": [
    "##### ancestral nucleotide probability\n",
    "\n",
    "At every locus, we have a collection of leaves $L$. Let the ancestral node be denoted by $A$. At a locus $i$, the probability of the ancestor $A$ having nucleotide $\\alpha$ can be written as\n",
    "$$ p_{iA}(\\alpha|L) \\propto p_i(L|\\alpha;A)p(\\alpha;A) $$\n",
    "We take $p(\\alpha;A)$ (the prior for $\\alpha$ at $A$) to be $b_\\alpha$ (the background probability for $\\alpha$) and $p_i(L|\\alpha;A)p(\\alpha;A)$ is the likelihood of the leaves at that locus given $\\alpha$ at the root\n",
    "\n",
    "Felsenstein algorithm, fast enough if just one locus; slight modification of `likelihood_one` defined above"
   ]
  },
  {
   "cell_type": "code",
   "execution_count": 20,
   "id": "bdb763ab",
   "metadata": {},
   "outputs": [
    {
     "data": {
      "text/plain": [
       "ancestral_vec (generic function with 2 methods)"
      ]
     },
     "execution_count": 20,
     "metadata": {},
     "output_type": "execute_result"
    }
   ],
   "source": [
    "function likelihood_one_locus(node::Node,leaves::Vector{Int64},α::Int64, κ::Float64,\n",
    "        bgprob::Vector{Float64}=[0.25,0.25,0.25,0.25])\n",
    "    # likelihood of leaves below node given node value is a: Felsenstein's algorithm\n",
    "    # assume binary tree \n",
    "    if node.data.lik_a[α] > -1.0\n",
    "        return node.data.lik_a[α]          \n",
    "    elseif node.children == [] # leaf\n",
    "        if leaves[node.data.labelnum]==α\n",
    "            node.data.lik_a[α] = 1.0            \n",
    "            return 1.0\n",
    "        else\n",
    "            node.data.lik_a[α] = 0.0            \n",
    "            return 0.0\n",
    "        end\n",
    "    else\n",
    "        lik = 0.0\n",
    "        left = node.children[1]\n",
    "        right = node.children[2]\n",
    "        for b in 1:4\n",
    "            for c in 1:4\n",
    "                lik += hkyS(b,α,left.data.q,κ)*likelihood_one_locus(left,leaves,b,κ,bgprob)*\n",
    "                        hkyS(c,α,right.data.q,κ)*likelihood_one_locus(right,leaves,c,κ,bgprob)\n",
    "            end\n",
    "        end\n",
    "        node.data.lik_a[α] = lik                \n",
    "        return lik\n",
    "    end\n",
    "end\n",
    "\n",
    "    \n",
    "function ancestral_vec(node::Node,leaves::Vector{Int64},κ::Float64,bgprob::Vector{Float64}=[0.25,0.25,0.25,0.25])\n",
    "    reset_caches!(node)\n",
    "    ancvec = [likelihood_one_locus(node,leaves,α,κ,bgprob)*bgprob[α] for α=1:4]\n",
    "    ancvec = ancvec/sum(ancvec)\n",
    "    return ancvec\n",
    "end"
   ]
  },
  {
   "cell_type": "markdown",
   "id": "94292eb5",
   "metadata": {},
   "source": [
    "#### read data from \"multifasta\" file\n",
    "file format: `>>` is first sequence in a group, `>` is remaining sequences\n",
    "\n",
    "all sequences are assumed to be in same order of species"
   ]
  },
  {
   "cell_type": "markdown",
   "id": "ffd9ff32",
   "metadata": {},
   "source": [
    "`read_seq_groups` reads the whole multifasta file, and returns a vector of vectors of sequences\n",
    "\n",
    "other functions will call this first and then process as needed"
   ]
  },
  {
   "cell_type": "code",
   "execution_count": 21,
   "id": "2568a559",
   "metadata": {},
   "outputs": [],
   "source": [
    "base2num = Dict('A' => 1,'C'=>2,'G'=>3,'T'=>4, 'a'=>1, 'c'=>2, 'g'=>3, 't'=>4);"
   ]
  },
  {
   "cell_type": "code",
   "execution_count": 22,
   "id": "255d4bda",
   "metadata": {},
   "outputs": [
    {
     "data": {
      "text/plain": [
       "read_seq_groups (generic function with 2 methods)"
      ]
     },
     "execution_count": 22,
     "metadata": {},
     "output_type": "execute_result"
    }
   ],
   "source": [
    "function read_seq_groups(fname::String, order::Vector{Int64} = [])\n",
    "    # if order in tree not same as order in file, supply order parameter\n",
    "    f = open(fname)\n",
    "    linegroups = split(read(fname,String),\">>\")\n",
    "    outputseqs = Vector{Vector{Int64}}[]\n",
    "    for lg in linegroups\n",
    "        oneseqgroup = Vector{Int64}[]\n",
    "        ls = split(lg,\"\\n\")\n",
    "        badchar = false\n",
    "        for l in ls[2:end]\n",
    "            if split(l)==[] || l[1]=='>'\n",
    "                continue\n",
    "            end\n",
    "            if 'n' in l || 'N' in l\n",
    "                badchar = true\n",
    "                break\n",
    "            end\n",
    "            lc = [c for c in l if c in \"ACGTacgt\"]\n",
    "            push!(oneseqgroup, [base2num[c] for c in lc])\n",
    "        end\n",
    "        if ! badchar && oneseqgroup != []\n",
    "            push!(outputseqs,oneseqgroup)\n",
    "        end\n",
    "    end\n",
    "    if order != []\n",
    "        outseqs = Vector{Vector{Int64}}[]\n",
    "        for seqgroup in outputseqs\n",
    "            oneseqgroup = Vector{Int64}[]\n",
    "            for i in 1:length(order)\n",
    "                push!(oneseqgroup,seqgroup[order[i]])\n",
    "            end\n",
    "            push!(outseqs,oneseqgroup)\n",
    "        end\n",
    "    else\n",
    "        outseqs = outputseqs\n",
    "    end\n",
    "    return outseqs\n",
    "end\n",
    "                \n",
    "            \n",
    "            \n",
    "        "
   ]
  },
  {
   "cell_type": "markdown",
   "id": "a9313c8d",
   "metadata": {},
   "source": [
    "### find information score at a position, across all sequences and groups"
   ]
  },
  {
   "cell_type": "code",
   "execution_count": 23,
   "id": "11682e6f",
   "metadata": {},
   "outputs": [
    {
     "data": {
      "text/plain": [
       "infscore (generic function with 1 method)"
      ]
     },
     "execution_count": 23,
     "metadata": {},
     "output_type": "execute_result"
    }
   ],
   "source": [
    "function infscore(v::Vector{Float64})\n",
    "    I = 2.0\n",
    "    for i=1:4\n",
    "        if v[i]==0\n",
    "            continue\n",
    "        else\n",
    "            I += v[i]*log2(v[i])\n",
    "        end\n",
    "    end\n",
    "    return I\n",
    "end\n",
    "        "
   ]
  },
  {
   "cell_type": "code",
   "execution_count": 24,
   "id": "3f80c3be",
   "metadata": {},
   "outputs": [
    {
     "data": {
      "text/plain": [
       "infscore (generic function with 2 methods)"
      ]
     },
     "execution_count": 24,
     "metadata": {},
     "output_type": "execute_result"
    }
   ],
   "source": [
    "function infscore(seq,pos)\n",
    "    sites = reduce(vcat,[[s[pos] for s in sg] for sg in seq])\n",
    "    basefracs = [count(x-> x==i, sites)/length(sites) for i=1:4]\n",
    "    return infscore(basefracs)\n",
    "end\n",
    "    "
   ]
  },
  {
   "cell_type": "code",
   "execution_count": 25,
   "id": "0fdb3cbd",
   "metadata": {},
   "outputs": [
    {
     "data": {
      "text/plain": [
       "pwm (generic function with 1 method)"
      ]
     },
     "execution_count": 25,
     "metadata": {},
     "output_type": "execute_result"
    }
   ],
   "source": [
    "function pwm(seq)\n",
    "    lseq = length(seq[1][1])\n",
    "    sites = [reduce(vcat,[[s[pos] for s in sg] for sg in seq]) for pos = 1:lseq]\n",
    "    basefracs = [[count(x-> x==i, s)/length(s) for i=1:4] for s in sites]\n",
    "    return basefracs\n",
    "end\n",
    "    "
   ]
  },
  {
   "cell_type": "markdown",
   "id": "2bb75d3d",
   "metadata": {},
   "source": [
    "###### get collection of sites from specific position"
   ]
  },
  {
   "cell_type": "code",
   "execution_count": 26,
   "id": "03371323",
   "metadata": {},
   "outputs": [
    {
     "data": {
      "text/plain": [
       "get_sites_pos (generic function with 1 method)"
      ]
     },
     "execution_count": 26,
     "metadata": {},
     "output_type": "execute_result"
    }
   ],
   "source": [
    "function get_sites_pos(seq,pos)\n",
    "    lmat = length(seq)\n",
    "    hmat = length(seq[1])\n",
    "    sitelist = zeros(Int64,hmat,lmat)\n",
    "    for i = 1:hmat\n",
    "        for j = 1:lmat\n",
    "            sitelist[i,j] = seq[j][i][pos]\n",
    "        end\n",
    "    end\n",
    "    return sitelist\n",
    "end"
   ]
  },
  {
   "cell_type": "markdown",
   "id": "b8bec9bc",
   "metadata": {},
   "source": [
    "#### get collection of sites from least informative position"
   ]
  },
  {
   "cell_type": "code",
   "execution_count": 27,
   "id": "97c945c1",
   "metadata": {},
   "outputs": [
    {
     "data": {
      "text/plain": [
       "get_neutral_sites (generic function with 1 method)"
      ]
     },
     "execution_count": 27,
     "metadata": {},
     "output_type": "execute_result"
    }
   ],
   "source": [
    "function get_neutral_sites(seq)\n",
    "    lseq = length(seq[1][1])\n",
    "    infs = [infscore(seq,i) for i = 1:lseq]\n",
    "    mininf = minimum(infs)\n",
    "    mini = 0\n",
    "    for i = 1:lseq\n",
    "        if infs[i]==mininf\n",
    "            mini = i\n",
    "            break\n",
    "        end\n",
    "    end\n",
    "    return get_sites_pos(seq,mini)\n",
    "end\n",
    "    "
   ]
  },
  {
   "cell_type": "markdown",
   "id": "560364d1",
   "metadata": {},
   "source": [
    "####  visualize with sequence logo\n",
    "`resvec` is a vector of weight vectors, assumed normalized. Multiply each by information score for the \"usual\" logo\n",
    "\n",
    "returns `Logo` object, `logo.fig` to visualize "
   ]
  },
  {
   "cell_type": "code",
   "execution_count": 28,
   "id": "12187028",
   "metadata": {},
   "outputs": [
    {
     "data": {
      "text/plain": [
       "logoFromWvecs (generic function with 1 method)"
      ]
     },
     "execution_count": 28,
     "metadata": {},
     "output_type": "execute_result"
    }
   ],
   "source": [
    "function logoFromWvecs(resvec)\n",
    "    resvecI = [r*infscore(r) for r in resvec]\n",
    "    wvec = Matrix(reduce(hcat,resvecI))\n",
    "    logo = Logomaker.Logo(wvec, collect(\"ACGT\"); color_scheme=\"classic\")\n",
    "    logo.ax.set_ylim(0, 2)\n",
    "    return logo\n",
    "end "
   ]
  },
  {
   "cell_type": "markdown",
   "id": "9b065a3f",
   "metadata": {},
   "source": [
    "    ### Working with the actual primate data"
   ]
  },
  {
   "cell_type": "code",
   "execution_count": 29,
   "id": "4d757278",
   "metadata": {},
   "outputs": [
    {
     "data": {
      "text/plain": [
       "\"((((human:0.5,chimp:0.5):0.5,gorilla:0.5):0.5,orangutan:0.5):0.5,rhesus:0.5):0.5;\""
      ]
     },
     "execution_count": 29,
     "metadata": {},
     "output_type": "execute_result"
    }
   ],
   "source": [
    "s = \"((((human:0.5,chimp:0.5):0.5,gorilla:0.5):0.5,orangutan:0.5):0.5,rhesus:0.5):0.5;\""
   ]
  },
  {
   "cell_type": "code",
   "execution_count": 30,
   "id": "baaf6887",
   "metadata": {},
   "outputs": [
    {
     "data": {
      "text/plain": [
       "(Node(NodeData(\"\", 6, [-1.0, -1.0, -1.0, -1.0], 0.5), Union{Nothing, Node}[Node(NodeData(\"\", 7, [-1.0, -1.0, -1.0, -1.0], 0.5), Union{Nothing, Node}[Node(NodeData(\"\", 8, [-1.0, -1.0, -1.0, -1.0], 0.5), Union{Nothing, Node}[Node(NodeData(\"\", 9, [-1.0, -1.0, -1.0, -1.0], 0.5), Union{Nothing, Node}[Node(NodeData(\"human\", 1, [-1.0, -1.0, -1.0, -1.0], 0.5), Union{Nothing, Node}[]), Node(NodeData(\"chimp\", 2, [-1.0, -1.0, -1.0, -1.0], 0.5), Union{Nothing, Node}[])]), Node(NodeData(\"gorilla\", 3, [-1.0, -1.0, -1.0, -1.0], 0.5), Union{Nothing, Node}[])]), Node(NodeData(\"orangutan\", 4, [-1.0, -1.0, -1.0, -1.0], 0.5), Union{Nothing, Node}[])]), Node(NodeData(\"rhesus\", 5, [-1.0, -1.0, -1.0, -1.0], 0.5), Union{Nothing, Node}[])]), [\"human\", \"chimp\", \"gorilla\", \"orangutan\", \"rhesus\"])"
      ]
     },
     "execution_count": 30,
     "metadata": {},
     "output_type": "execute_result"
    }
   ],
   "source": [
    "t, labels = treeFromNewick(s)"
   ]
  },
  {
   "cell_type": "markdown",
   "id": "a6533fba",
   "metadata": {},
   "source": [
    "#### second `order` parameter is important in read_seq_groups, it reorders in the same order as `labels`. Here, the labels are in the same order anyway..."
   ]
  },
  {
   "cell_type": "code",
   "execution_count": 31,
   "id": "715b0e4e",
   "metadata": {},
   "outputs": [],
   "source": [
    "seqs = read_seq_groups(\"primates/CTCF_primates.txt\",[1,2,3,4,5]);"
   ]
  },
  {
   "cell_type": "code",
   "execution_count": 32,
   "id": "e98b728d",
   "metadata": {
    "scrolled": true
   },
   "outputs": [
    {
     "data": {
      "text/plain": [
       "5×18231 Matrix{Int64}:\n",
       " 4  2  4  3  4  4  2  4  3  3  3  4  2  …  4  1  1  1  3  1  3  1  1  2  3  1\n",
       " 4  2  4  3  4  4  2  4  3  3  3  4  2     4  1  1  1  3  1  3  1  1  2  3  1\n",
       " 4  2  4  3  4  4  2  4  3  3  3  4  2     4  1  1  1  3  1  3  1  1  2  3  1\n",
       " 4  2  4  3  4  4  2  4  3  3  3  4  2     4  1  2  1  3  1  3  1  1  2  3  1\n",
       " 4  2  4  3  4  4  2  4  3  3  2  4  2     4  1  2  1  3  1  3  1  1  2  3  1"
      ]
     },
     "execution_count": 32,
     "metadata": {},
     "output_type": "execute_result"
    }
   ],
   "source": [
    "sites=get_neutral_sites(seqs)"
   ]
  },
  {
   "cell_type": "code",
   "execution_count": 33,
   "id": "9d9360f7",
   "metadata": {},
   "outputs": [
    {
     "data": {
      "text/plain": [
       "\"((((human:0.5,chimp:0.5):0.5,gorilla:0.5):0.5,orangutan:0.5):0.5,rhesus:0.5):0.5;\""
      ]
     },
     "execution_count": 33,
     "metadata": {},
     "output_type": "execute_result"
    }
   ],
   "source": [
    "tree_to_newick(t)"
   ]
  },
  {
   "cell_type": "code",
   "execution_count": 34,
   "id": "37a160ba",
   "metadata": {},
   "outputs": [
    {
     "name": "stdout",
     "output_type": "stream",
     "text": [
      "1360.846626 seconds (13.19 G allocations: 1.105 TiB, 4.14% gc time)\n"
     ]
    },
    {
     "data": {
      "text/plain": [
       "(38932.8029956841, [0.991690655464377, 0.9968369699734849, 0.9919144833258413, 0.9887245295383053, 0.988017166236276, 0.9410322050961698, 0.9770922408124167, 2.272787640301906], :FTOL_REACHED)"
      ]
     },
     "execution_count": 34,
     "metadata": {},
     "output_type": "execute_result"
    }
   ],
   "source": [
    "@time res = get_NLopt_qlist(t,sites,0,[0.3,0.2,0.2,0.3])"
   ]
  },
  {
   "cell_type": "markdown",
   "id": "fee5df9a",
   "metadata": {},
   "source": [
    "`qlist` = the list of `q` values, plus `κ` at the end"
   ]
  },
  {
   "cell_type": "code",
   "execution_count": 35,
   "id": "e4b90ea9",
   "metadata": {},
   "outputs": [
    {
     "data": {
      "text/plain": [
       "2.272787640301906"
      ]
     },
     "execution_count": 35,
     "metadata": {},
     "output_type": "execute_result"
    }
   ],
   "source": [
    "qlist = res[2][1:end-1]\n",
    "set_qlist!(t,qlist)\n",
    "κ = res[2][end]"
   ]
  },
  {
   "cell_type": "markdown",
   "id": "a1ca52c7",
   "metadata": {},
   "source": [
    "insert these branch lengths into the tree"
   ]
  },
  {
   "cell_type": "code",
   "execution_count": 36,
   "id": "4bd1b64b",
   "metadata": {},
   "outputs": [
    {
     "data": {
      "text/plain": [
       "\"((((human:0.991690655464377,chimp:0.9919144833258413):0.9968369699734849,gorilla:0.988017166236276):0.9887245295383053,orangutan:0.9770922408124167):0.9410322050961698,rhesus:1.0):1.0;\""
      ]
     },
     "execution_count": 36,
     "metadata": {},
     "output_type": "execute_result"
    }
   ],
   "source": [
    "set_qlist!(t,res[2])\n",
    "tree_to_newick(t)"
   ]
  },
  {
   "cell_type": "code",
   "execution_count": 37,
   "id": "9422e143",
   "metadata": {},
   "outputs": [
    {
     "data": {
      "text/plain": [
       "\"((((human:0.991690655464377,chimp:0.9919144833258413):0.9968369699734849,gorilla:0.988017166236276):0.9887245295383053,orangutan:0.9770922408124167):0.9410322050961698,rhesus:1.0):1.0;\""
      ]
     },
     "execution_count": 37,
     "metadata": {},
     "output_type": "execute_result"
    }
   ],
   "source": [
    "primate_q_string = tree_to_newick(t)"
   ]
  },
  {
   "cell_type": "markdown",
   "id": "2f8d52cc",
   "metadata": {},
   "source": [
    "##### Obtaining PWM, PSSV and conditional PSSV logos "
   ]
  },
  {
   "cell_type": "code",
   "execution_count": 38,
   "id": "762ede60",
   "metadata": {},
   "outputs": [
    {
     "data": {
      "text/plain": [
       "get_diff_logos (generic function with 3 methods)"
      ]
     },
     "execution_count": 38,
     "metadata": {},
     "output_type": "execute_result"
    }
   ],
   "source": [
    "function get_logos(filename, κ, posrange=[0,0],ordering=[1,2,3,4,5])\n",
    "    seqs = read_seq_groups(filename,ordering);\n",
    "    lseq = length(seqs[1][1])\n",
    "    if posrange==[0,0]\n",
    "        posrange = [1,lseq]\n",
    "    end\n",
    "    resvec = []\n",
    "    for i = posrange[1]:posrange[2]\n",
    "        sites = get_sites_pos(seqs,i)\n",
    "        res=get_NLopt_pivec(t,sites,0,κ,[0.3,0.2,0.2,0.3])\n",
    "        push!(resvec,[res[2]; 1.0-sum(res[2])])\n",
    "    end\n",
    "\n",
    "    logopwm = logoFromWvecs(pwm([[s[1:1][1][posrange[1]:posrange[2]]] for s in seqs]))\n",
    "\n",
    "    logopssv = logoFromWvecs(resvec)\n",
    "    logopwm.ax.axhline(1.0,color=\"black\",linewidth=1,linestyle=':',alpha=0.5)\n",
    "    logopwm.ax.axhline(0.2,color=\"gray\",linewidth=1,linestyle=':',alpha=0.5)\n",
    "    logopwm.ax.axhline(0.4,color=\"gray\",linewidth=1,linestyle=':',alpha=0.5)\n",
    "    logopwm.ax.axhline(0.6,color=\"gray\",linewidth=1,linestyle=':',alpha=0.5)\n",
    "    logopwm.ax.axhline(0.8,color=\"gray\",linewidth=1,linestyle=':',alpha=0.5)\n",
    "    logopwm.ax.axhline(1.2,color=\"gray\",linewidth=1,linestyle=':',alpha=0.5)\n",
    "    logopwm.ax.axhline(1.4,color=\"gray\",linewidth=1,linestyle=':',alpha=0.5)\n",
    "    logopwm.ax.axhline(1.6,color=\"gray\",linewidth=1,linestyle=':',alpha=0.5)\n",
    "    logopwm.ax.axhline(1.8,color=\"gray\",linewidth=1,linestyle=':',alpha=0.5)\n",
    "    logopwm.ax.set_yticks([0.0,1.0,2.0])\n",
    "    logopssv.ax.axhline(1.0,color=\"black\",linewidth=1,linestyle=':',alpha=0.5)\n",
    "    logopssv.ax.axhline(0.2,color=\"gray\",linewidth=1,linestyle=':',alpha=0.5)\n",
    "    logopssv.ax.axhline(0.4,color=\"gray\",linewidth=1,linestyle=':',alpha=0.5)\n",
    "    logopssv.ax.axhline(0.6,color=\"gray\",linewidth=1,linestyle=':',alpha=0.5)\n",
    "    logopssv.ax.axhline(0.8,color=\"gray\",linewidth=1,linestyle=':',alpha=0.5)\n",
    "    logopssv.ax.axhline(1.2,color=\"gray\",linewidth=1,linestyle=':',alpha=0.5)\n",
    "    logopssv.ax.axhline(1.4,color=\"gray\",linewidth=1,linestyle=':',alpha=0.5)\n",
    "    logopssv.ax.axhline(1.6,color=\"gray\",linewidth=1,linestyle=':',alpha=0.5)\n",
    "    logopssv.ax.axhline(1.8,color=\"gray\",linewidth=1,linestyle=':',alpha=0.5)\n",
    "    logopssv.ax.set_yticks([0.0,1.0,2.0])\n",
    "    return seqs, logopwm,logopssv\n",
    "end\n",
    "\n",
    "\n",
    "function get_diff_logos(seqs,pos,nuc1,nuc2,κ,thres=0.5, posrange=[0,0]) # nuc1, nuc2 in 1234==ACGT\n",
    "    seqs1= [s for s in seqs if ancestral_vec(t,[s[i][pos] for i=1:5],κ)[nuc1] >= thres]\n",
    "    seqs2 = [s for s in seqs if ancestral_vec(t,[s[i][pos] for i=1:5],κ)[nuc2] >= thres]\n",
    "    lseq = length(seqs[1][1])\n",
    "    if posrange==[0,0]\n",
    "        posrange = [1,lseq]\n",
    "    end\n",
    "    resvec1 = []\n",
    "    for i = posrange[1]:posrange[2]\n",
    "        sites = get_sites_pos(seqs1,i)\n",
    "        res=get_NLopt_pivec(t,sites,0,κ,[0.3,0.2,0.2,0.3])\n",
    "        push!(resvec1,[res[2]; 1.0-sum(res[2])])\n",
    "    end\n",
    "    resvec2 = []\n",
    "    for i = posrange[1]:posrange[2]\n",
    "        sites = get_sites_pos(seqs2,i)\n",
    "        res=get_NLopt_pivec(t,sites,0,κ,[0.3,0.2,0.2,0.3])\n",
    "        push!(resvec2,[res[2]; 1.0-sum(res[2])])\n",
    "    end\n",
    "    logo1 = logoFromWvecs(resvec1)\n",
    "    logo2 = logoFromWvecs(resvec2)\n",
    "    logo1.ax.axhline(1.0,color=\"black\",linewidth=1,linestyle=':',alpha=0.5)\n",
    "    logo1.ax.axhline(0.2,color=\"gray\",linewidth=1,linestyle=':',alpha=0.5)\n",
    "    logo1.ax.axhline(0.4,color=\"gray\",linewidth=1,linestyle=':',alpha=0.5)\n",
    "    logo1.ax.axhline(0.6,color=\"gray\",linewidth=1,linestyle=':',alpha=0.5)\n",
    "    logo1.ax.axhline(0.8,color=\"gray\",linewidth=1,linestyle=':',alpha=0.5)\n",
    "    logo1.ax.axhline(1.2,color=\"gray\",linewidth=1,linestyle=':',alpha=0.5)\n",
    "    logo1.ax.axhline(1.4,color=\"gray\",linewidth=1,linestyle=':',alpha=0.5)\n",
    "    logo1.ax.axhline(1.6,color=\"gray\",linewidth=1,linestyle=':',alpha=0.5)\n",
    "    logo1.ax.axhline(1.8,color=\"gray\",linewidth=1,linestyle=':',alpha=0.5)\n",
    "    logo1.ax.set_yticks([0.0,1.0,2.0])\n",
    "    logo1.highlight_position(pos-posrange[1]+1,color=\"cyan\",alpha=0.3)\n",
    "\n",
    "    logo2.ax.axhline(1.0,color=\"black\",linewidth=1,linestyle=':',alpha=0.5)\n",
    "    logo2.ax.axhline(0.2,color=\"gray\",linewidth=1,linestyle=':',alpha=0.5)\n",
    "    logo2.ax.axhline(0.4,color=\"gray\",linewidth=1,linestyle=':',alpha=0.5)\n",
    "    logo2.ax.axhline(0.6,color=\"gray\",linewidth=1,linestyle=':',alpha=0.5)\n",
    "    logo2.ax.axhline(0.8,color=\"gray\",linewidth=1,linestyle=':',alpha=0.5)\n",
    "    logo2.ax.axhline(1.2,color=\"gray\",linewidth=1,linestyle=':',alpha=0.5)\n",
    "    logo2.ax.axhline(1.4,color=\"gray\",linewidth=1,linestyle=':',alpha=0.5)\n",
    "    logo2.ax.axhline(1.6,color=\"gray\",linewidth=1,linestyle=':',alpha=0.5)\n",
    "    logo2.ax.axhline(1.8,color=\"gray\",linewidth=1,linestyle=':',alpha=0.5)\n",
    "    logo2.ax.set_yticks([0.0,1.0,2.0])\n",
    "    logo2.highlight_position(pos-posrange[1]+1,color=\"cyan\",alpha=0.3)\n",
    "\n",
    "    return logo1,logo2\n",
    "end"
   ]
  },
  {
   "cell_type": "markdown",
   "id": "be9dc1f4",
   "metadata": {},
   "source": [
    "###### CTCF example"
   ]
  },
  {
   "cell_type": "code",
   "execution_count": null,
   "id": "8b2a2f55",
   "metadata": {},
   "outputs": [],
   "source": [
    "seqs,logopwm,logopssv = get_logos(\"primates/CTCF_primates.txt\",κ,[15,48],[1,2,3,4,5]);\n",
    "logopwm.fig"
   ]
  },
  {
   "cell_type": "code",
   "execution_count": null,
   "id": "2820e2ab",
   "metadata": {},
   "outputs": [],
   "source": [
    "logopssv.fig"
   ]
  },
  {
   "cell_type": "code",
   "execution_count": null,
   "id": "72820534",
   "metadata": {},
   "outputs": [],
   "source": [
    "###### REST example"
   ]
  },
  {
   "cell_type": "code",
   "execution_count": null,
   "id": "1ef7e6bd",
   "metadata": {},
   "outputs": [],
   "source": [
    "seqs,logopwm,logopssv = get_logos(\"primates/REST_primates.txt\",κ,[15,48],[1,2,3,4,5]);\n",
    "logopwm.fig"
   ]
  },
  {
   "cell_type": "code",
   "execution_count": null,
   "id": "957041c5",
   "metadata": {},
   "outputs": [],
   "source": [
    "logopssv.fig"
   ]
  },
  {
   "cell_type": "markdown",
   "id": "748d8e73",
   "metadata": {},
   "source": [
    "#### Can try with other examples in the \"primates\" directory"
   ]
  },
  {
   "cell_type": "markdown",
   "id": "cd02c5de",
   "metadata": {},
   "source": [
    "#### For \"mammals\" directory, use the appropriate tree and calculate its branchlengths first, as was done for the primate tree above"
   ]
  },
  {
   "cell_type": "code",
   "execution_count": null,
   "id": "4001d2f2",
   "metadata": {},
   "outputs": [],
   "source": []
  }
 ],
 "metadata": {
  "kernelspec": {
   "display_name": "Julia 1.9.1",
   "language": "julia",
   "name": "julia-1.9"
  },
  "language_info": {
   "file_extension": ".jl",
   "mimetype": "application/julia",
   "name": "julia",
   "version": "1.9.1"
  }
 },
 "nbformat": 4,
 "nbformat_minor": 5
}
